{
 "cells": [
  {
   "cell_type": "markdown",
   "metadata": {},
   "source": [
    "## Data tutorial\n",
    "\n",
    "The `vasp_data` module of `surfaxe` contains scripts that collate the data from final VASP calculations for post-processing, and extract core and vacuum energy levels for band alignmnent diagrams. The functions are fairly flexible and can be quickly used from the command line (useful when using remote machines) and are called by other functions elsewhere in the code e.g. `convergence.parse_fols`. "
   ]
  },
  {
   "cell_type": "code",
   "execution_count": 2,
   "metadata": {},
   "outputs": [],
   "source": [
    "from surfaxe.vasp_data import process_data, core_energy, vacuum\n",
    "\n",
    "# Create a path to the examples folder\n",
    "from pathlib import Path \n",
    "path_to_vasp_data = Path.cwd().parents[1].joinpath('example_data/vasp_data')"
   ]
  },
  {
   "cell_type": "markdown",
   "metadata": {},
   "source": [
    "## Vacuum level potential \n",
    "The vacuum level potential from a VASP `LOCPOT` or an existing `potential.csv` file made with `analysis.potential` function can be extracted with aptly named `vacuum` function. It takes one required argument, `path` which is the path to the directory in which either of the files is. \n",
    "\n",
    "It first checks if a `potential.csv` exists, and if not it checks if a `LOCPOT` exists."
   ]
  },
  {
   "cell_type": "code",
   "execution_count": 3,
   "metadata": {},
   "outputs": [
    {
     "data": {
      "text/plain": [
       "7.926"
      ]
     },
     "execution_count": 3,
     "metadata": {},
     "output_type": "execute_result"
    }
   ],
   "source": [
    "# Create a string of a path to the potential.csv file\n",
    "path_to_potential = str(path_to_vasp_data.joinpath('101/potential.csv'))\n",
    "\n",
    "vacuum(path_to_potential)"
   ]
  },
  {
   "cell_type": "markdown",
   "metadata": {},
   "source": [
    "## Core state energy \n",
    "The `core_energy` function parses a structure file and an `OUTCAR` to get the core level of an atom in the middle of the slab with a specified coordination environment. It needs two parameters to work, the core atom and the list of nearest neighbours. The default nearest neighbour finding method is `CrystalNN` and as always, make sure to test the method works on the bulk structure before using it on slabs. \n",
    "\n",
    "If a different nearest neighbour algorithm is needed, it must first be imported from `pymatgen.analysis.local_env`."
   ]
  },
  {
   "cell_type": "code",
   "execution_count": 4,
   "metadata": {},
   "outputs": [
    {
     "data": {
      "text/plain": [
       "-504.2464"
      ]
     },
     "execution_count": 4,
     "metadata": {},
     "output_type": "execute_result"
    }
   ],
   "source": [
    "outcar_path = str(path_to_vasp_data.joinpath('101/OUTCAR'))\n",
    "structure_path = str(path_to_vasp_data.joinpath('101/POSCAR'))\n",
    "\n",
    "core_energy('O', ['Sn', 'Sn', 'Sn'], outcar=outcar_path, structure=structure_path)"
   ]
  },
  {
   "cell_type": "markdown",
   "metadata": {},
   "source": [
    "## Data collation\n",
    "The `process_data` function can be used as a standalone for the collation of data from sets of VASP calculations on different Miller indices. \n",
    "\n",
    "For now, it requries the calculations to be in a specific folder structure, with one calcualtion in each directory, named according to the miller index. e.g:\n",
    "\n",
    "```\n",
    "parent_folder/\n",
    "    └──001/\n",
    "        ├── POSCAR\n",
    "        ├── LOCPOT\n",
    "        ├── vasprun.xml\n",
    "        └── ...\n",
    "    └──101/\n",
    "        ├── POSCAR\n",
    "        ├── LOCPOT\n",
    "        ├── vasprun.xml\n",
    "        └── ...\n",
    "```\n",
    "\n",
    "The directories can be called something else and dealt with using the `hkl_dict` argument. For example `hkl_dict={(1,-1,2): '1-12'}`.\n",
    "\n",
    "The function requries the energy per atom from a converged bulk calculation to calculate the surface energy. "
   ]
  },
  {
   "cell_type": "code",
   "execution_count": 18,
   "metadata": {},
   "outputs": [
    {
     "data": {
      "text/html": [
       "<div>\n",
       "<style scoped>\n",
       "    .dataframe tbody tr th:only-of-type {\n",
       "        vertical-align: middle;\n",
       "    }\n",
       "\n",
       "    .dataframe tbody tr th {\n",
       "        vertical-align: top;\n",
       "    }\n",
       "\n",
       "    .dataframe thead th {\n",
       "        text-align: right;\n",
       "    }\n",
       "</style>\n",
       "<table border=\"1\" class=\"dataframe\">\n",
       "  <thead>\n",
       "    <tr style=\"text-align: right;\">\n",
       "      <th></th>\n",
       "      <th>hkl</th>\n",
       "      <th>hkl_tuple</th>\n",
       "      <th>area</th>\n",
       "      <th>atoms</th>\n",
       "      <th>functional</th>\n",
       "      <th>encut</th>\n",
       "      <th>algo</th>\n",
       "      <th>ismear</th>\n",
       "      <th>sigma</th>\n",
       "      <th>kpoints</th>\n",
       "      <th>bandgap</th>\n",
       "      <th>slab_energy</th>\n",
       "      <th>slab_per_atom</th>\n",
       "      <th>surface_energy</th>\n",
       "      <th>vacuum_potential</th>\n",
       "      <th>core_energy</th>\n",
       "    </tr>\n",
       "  </thead>\n",
       "  <tbody>\n",
       "    <tr>\n",
       "      <th>0</th>\n",
       "      <td>110</td>\n",
       "      <td>(1, 1, 0)</td>\n",
       "      <td>21.708192</td>\n",
       "      <td>72</td>\n",
       "      <td>PBEsol</td>\n",
       "      <td>550.0</td>\n",
       "      <td>Normal</td>\n",
       "      <td>0</td>\n",
       "      <td>0.02</td>\n",
       "      <td>[[6, 3, 1]]</td>\n",
       "      <td>0.5914</td>\n",
       "      <td>-472.864305</td>\n",
       "      <td>-6.567560</td>\n",
       "      <td>1.175327</td>\n",
       "      <td>9.077</td>\n",
       "      <td>-503.5028</td>\n",
       "    </tr>\n",
       "    <tr>\n",
       "      <th>1</th>\n",
       "      <td>101</td>\n",
       "      <td>(1, 0, 1)</td>\n",
       "      <td>27.468479</td>\n",
       "      <td>72</td>\n",
       "      <td>PBEsol</td>\n",
       "      <td>550.0</td>\n",
       "      <td>Normal</td>\n",
       "      <td>0</td>\n",
       "      <td>0.02</td>\n",
       "      <td>[[4, 3, 1]]</td>\n",
       "      <td>0.7203</td>\n",
       "      <td>-470.608146</td>\n",
       "      <td>-6.536224</td>\n",
       "      <td>1.586766</td>\n",
       "      <td>7.926</td>\n",
       "      <td>-504.2464</td>\n",
       "    </tr>\n",
       "  </tbody>\n",
       "</table>\n",
       "</div>"
      ],
      "text/plain": [
       "   hkl  hkl_tuple       area  atoms functional  encut    algo  ismear  sigma  \\\n",
       "0  110  (1, 1, 0)  21.708192     72     PBEsol  550.0  Normal       0   0.02   \n",
       "1  101  (1, 0, 1)  27.468479     72     PBEsol  550.0  Normal       0   0.02   \n",
       "\n",
       "       kpoints  bandgap  slab_energy  slab_per_atom  surface_energy  \\\n",
       "0  [[6, 3, 1]]   0.5914  -472.864305      -6.567560        1.175327   \n",
       "1  [[4, 3, 1]]   0.7203  -470.608146      -6.536224        1.586766   \n",
       "\n",
       "   vacuum_potential  core_energy  \n",
       "0             9.077    -503.5028  \n",
       "1             7.926    -504.2464  "
      ]
     },
     "execution_count": 18,
     "metadata": {},
     "output_type": "execute_result"
    }
   ],
   "source": [
    "df = process_data(-6.6118, parse_core_energy=True, path_to_fols=str(path_to_vasp_data),\n",
    "             core_atom='O', bulk_nn=['Sn', 'Sn', 'Sn'], parse_vacuum=True, save_csv=False)\n",
    "\n",
    "df.head()"
   ]
  },
  {
   "cell_type": "markdown",
   "metadata": {},
   "source": [
    "The function can also optionally make use of `core_energy` and `vacuum` functions to obtain the core energy levels and vacuum levels from the calculations along with the energies and input parameters. Because both require certain INCAR tags to be set manually, the `parse_core_energy` and `parse_vacuum` are set to `False` by default. All `core_energy` keyword arguments can be passed to `process_data` for full customisability. \n",
    "\n",
    "Notes:\n",
    "\n",
    "- The `process_data` parses the input parameteres part of `vasprun.xml` for the number of atoms and the area of the slab, the `KPOINTS` and the functional used and the following `INCAR` tags: `ENCUT`, `ISMEAR`, `SIGMA`, `ALGO`.\n",
    "\n",
    "- From the output part of `vasprun.xml`, band gap, total energy and total energy per atom are collected. Based on the bulk energy per atom provided to the function, the surface energy is calculated. \n",
    "\n",
    "- As always, it can either return a pandas DataFrame or save it to a csv file. "
   ]
  },
  {
   "cell_type": "code",
   "execution_count": null,
   "metadata": {},
   "outputs": [],
   "source": []
  }
 ],
 "metadata": {
  "kernelspec": {
   "display_name": "Python 3",
   "language": "python",
   "name": "python3"
  },
  "language_info": {
   "codemirror_mode": {
    "name": "ipython",
    "version": 3
   },
   "file_extension": ".py",
   "mimetype": "text/x-python",
   "name": "python",
   "nbconvert_exporter": "python",
   "pygments_lexer": "ipython3",
   "version": "3.7.4"
  }
 },
 "nbformat": 4,
 "nbformat_minor": 4
}
