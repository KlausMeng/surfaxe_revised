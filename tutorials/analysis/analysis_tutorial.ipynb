{
 "cells": [
  {
   "cell_type": "markdown",
   "metadata": {},
   "source": [
    "# Analysis tutorial\n",
    "\n",
    "The `analysis` module offers a number of scripts, including: \n",
    "\n",
    "- simple checks of slab thickness \n",
    "- atom displacement after relaxation \n",
    "- plotting the planar average of the electrostatic potenital through the slab and vacuum. \n",
    "\n",
    "The module relies heavily on the `pymatgen.analysis.local_env` module. Caution should be exercised when using the bond analysis and nearest neighbours functionalities with default settings."
   ]
  },
  {
   "cell_type": "code",
   "execution_count": 2,
   "metadata": {},
   "outputs": [],
   "source": [
    "# Import from relevant surfaxe modules\n",
    "from surfaxe.analysis import cart_displacements, bond_analysis, \\\n",
    "electrostatic_potential, simple_nn, complex_nn\n",
    "\n",
    "# Create a path to the examples folder\n",
    "from pathlib import Path \n",
    "path_to_analysis_data = Path.cwd().parents[1].joinpath('example_data/analysis')"
   ]
  },
  {
   "cell_type": "markdown",
   "metadata": {},
   "source": [
    "## Bond analysis \n",
    "Consistent bond lengths in c-direction (perpendicular to the surface) in a fully relaxed slab are an indicator of a sufficient slab thickness, i.e. that you have a bulk-like region in the centre. \n",
    "\n",
    "The `bond_analysis` function takes the slab structure file and the atom pairs under consideration to asses the bonding distance using the `CrystalNN` algorithm. The validity of the nearest neighbour finding algorithm should be checked on the bulk structure as some struggle with more complex systems - `CrystalNN` and `MinimumDistanceNN` are a good start. \n",
    "\n",
    "As in other modules, oxidation states are added by guess by default, but can be added by element or site as well."
   ]
  },
  {
   "cell_type": "code",
   "execution_count": 3,
   "metadata": {},
   "outputs": [
    {
     "data": {
      "image/png": "[encoded data removed]",
      "text/plain": [
       "<Figure size 432x288 with 1 Axes>"
      ]
     },
     "metadata": {
      "needs_background": "light"
     },
     "output_type": "display_data"
    }
   ],
   "source": [
    "bond_analysis(structure=str(path_to_analysis_data.joinpath('CONTCAR_SnO2')), \n",
    "              bonds=[['Sn', 'O']])"
   ]
  },
  {
   "cell_type": "markdown",
   "metadata": {},
   "source": [
    "By default, the data is plotted using the default `save_plt=True`. Deviation is expected in bond length close to the surface - however the extrapolated line should be relatively flat in the bulk-like region. \n",
    "\n",
    "A .csv file of the data is also saved. We can suppress this and instead inspect the data in a pandas dataframe, e.g:"
   ]
  },
  {
   "cell_type": "code",
   "execution_count": 7,
   "metadata": {},
   "outputs": [
    {
     "data": {
      "text/html": [
       "<div>\n",
       "<style scoped>\n",
       "    .dataframe tbody tr th:only-of-type {\n",
       "        vertical-align: middle;\n",
       "    }\n",
       "\n",
       "    .dataframe tbody tr th {\n",
       "        vertical-align: top;\n",
       "    }\n",
       "\n",
       "    .dataframe thead th {\n",
       "        text-align: right;\n",
       "    }\n",
       "</style>\n",
       "<table border=\"1\" class=\"dataframe\">\n",
       "  <thead>\n",
       "    <tr style=\"text-align: right;\">\n",
       "      <th></th>\n",
       "      <th>Sn_index</th>\n",
       "      <th>Sn_c_coord</th>\n",
       "      <th>Sn-O_bond_distance</th>\n",
       "    </tr>\n",
       "  </thead>\n",
       "  <tbody>\n",
       "    <tr>\n",
       "      <th>0</th>\n",
       "      <td>1</td>\n",
       "      <td>0.210039</td>\n",
       "      <td>2.045704</td>\n",
       "    </tr>\n",
       "    <tr>\n",
       "      <th>1</th>\n",
       "      <td>2</td>\n",
       "      <td>0.206004</td>\n",
       "      <td>2.094827</td>\n",
       "    </tr>\n",
       "    <tr>\n",
       "      <th>2</th>\n",
       "      <td>3</td>\n",
       "      <td>0.249207</td>\n",
       "      <td>2.079541</td>\n",
       "    </tr>\n",
       "    <tr>\n",
       "      <th>3</th>\n",
       "      <td>4</td>\n",
       "      <td>0.251195</td>\n",
       "      <td>2.064846</td>\n",
       "    </tr>\n",
       "    <tr>\n",
       "      <th>4</th>\n",
       "      <td>5</td>\n",
       "      <td>0.292350</td>\n",
       "      <td>2.066483</td>\n",
       "    </tr>\n",
       "  </tbody>\n",
       "</table>\n",
       "</div>"
      ],
      "text/plain": [
       "   Sn_index  Sn_c_coord  Sn-O_bond_distance\n",
       "0         1    0.210039            2.045704\n",
       "1         2    0.206004            2.094827\n",
       "2         3    0.249207            2.079541\n",
       "3         4    0.251195            2.064846\n",
       "4         5    0.292350            2.066483"
      ]
     },
     "execution_count": 7,
     "metadata": {},
     "output_type": "execute_result"
    }
   ],
   "source": [
    "df = bond_analysis(structure=str(path_to_analysis_data.joinpath('CONTCAR_SnO2')), \n",
    "              bonds=[['Sn', 'O']], save_csv=False, save_plt=False)\n",
    "\n",
    "df.head()"
   ]
  },
  {
   "cell_type": "markdown",
   "metadata": {},
   "source": [
    "## Electrostatic potential\n",
    "\n",
    "We can plot the planar average of the electrostatic potential using the aptly named `electrostatic_potential` function. It calculates both the planar and macroscopic potential - if the latter is flat it can be used to derive the ionisation potential and electron affintity directly. Along with the plot, a csv file is produced to allow for easier extraction of the vacuum energy. See Keith Butler's [Macrodensity Tutorials](https://github.com/WMD-group/MacroDensity/tree/master/tutorials) for more details on this approach. \n",
    "\n",
    "The planar potential is the average along one axis, calculated with pymatgen. The default axis specified here is c (but can be a or b as well) because we are interested in the potential in the vacuum region. The macroscopic potential is a rolling average of the planar potential with the periodicity of the unit cell as the window of the rolling average. The window is calculated as the ratio of the periodicity of the bulk system (`lattice_vector`) and the resolution of the raw potential data in that direction. The latter is calculated by diving the lattice parameter by the dimension of the potential data in a specified direction. \n"
   ]
  },
  {
   "cell_type": "code",
   "execution_count": 3,
   "metadata": {},
   "outputs": [
    {
     "data": {
      "image/png": "[encoded data removed]",
      "text/plain": [
       "<Figure size 432x288 with 1 Axes>"
      ]
     },
     "metadata": {
      "needs_background": "light"
     },
     "output_type": "display_data"
    }
   ],
   "source": [
    "electrostatic_potential(lattice_vector=11.5, \n",
    "                        locpot=path_to_analysis_data.joinpath('LOCPOT'), \n",
    "                        save_plt=True)"
   ]
  },
  {
   "cell_type": "markdown",
   "metadata": {},
   "source": [
    "## Coordination environment\n",
    "The analysis of coordination environment is an important for various reasons in both bulk and surface calculations. \n",
    "\n",
    "This [paper](https://chemrxiv.org/articles/Benchmarking_Coordination_Number_Prediction_Algorithms_on_Inorganic_Crystal_Structures/12508229?file=23211761) explains how the coordination number algorithms work and why `CrystalNN` is a good start for most purposes. It is recommended the validity of the algorithms is checked with bulk structure before using it in slabs, in particular in the case of metal-sulphur bonding in solid state. Most algorithms struggle with bonding environments near the surface in quaternary and quinary systems.  \n",
    "\n",
    "In `Surfaxe` the coordination environment functions are `simple_nn` and `complex_nn`. \n",
    "\n",
    "- `simple_nn`: Uses `CrystalNN` by default but it can be used with any local environment algorithm. It is fast and intended for simple binaries and ternaries and bulk structures. \n",
    "\n",
    "- `complex_nn`: Uses the `CutOffDictNN` algorithm where the maximum bond distance needs to be specified in form of a dictionary of bond lengths. It is a slightly slower approach more suited for systems with complex bonding structure, or where other algorithms fail. Note that if oxidation states are added, the bond lengths also need to be assigned oxidation states. "
   ]
  },
  {
   "cell_type": "code",
   "execution_count": 9,
   "metadata": {},
   "outputs": [
    {
     "data": {
      "text/html": [
       "<div>\n",
       "<style scoped>\n",
       "    .dataframe tbody tr th:only-of-type {\n",
       "        vertical-align: middle;\n",
       "    }\n",
       "\n",
       "    .dataframe tbody tr th {\n",
       "        vertical-align: top;\n",
       "    }\n",
       "\n",
       "    .dataframe thead th {\n",
       "        text-align: right;\n",
       "    }\n",
       "</style>\n",
       "<table border=\"1\" class=\"dataframe\">\n",
       "  <thead>\n",
       "    <tr style=\"text-align: right;\">\n",
       "      <th></th>\n",
       "      <th>site_index</th>\n",
       "      <th>site</th>\n",
       "      <th>cn_start</th>\n",
       "      <th>nn_start</th>\n",
       "    </tr>\n",
       "  </thead>\n",
       "  <tbody>\n",
       "    <tr>\n",
       "      <th>0</th>\n",
       "      <td>1</td>\n",
       "      <td>(Sn, 1)</td>\n",
       "      <td>5</td>\n",
       "      <td>O O O O O</td>\n",
       "    </tr>\n",
       "    <tr>\n",
       "      <th>1</th>\n",
       "      <td>2</td>\n",
       "      <td>(Sn, 2)</td>\n",
       "      <td>6</td>\n",
       "      <td>O O O O O O</td>\n",
       "    </tr>\n",
       "    <tr>\n",
       "      <th>2</th>\n",
       "      <td>3</td>\n",
       "      <td>(Sn, 3)</td>\n",
       "      <td>6</td>\n",
       "      <td>O O O O O O</td>\n",
       "    </tr>\n",
       "    <tr>\n",
       "      <th>3</th>\n",
       "      <td>4</td>\n",
       "      <td>(Sn, 4)</td>\n",
       "      <td>6</td>\n",
       "      <td>O O O O O O</td>\n",
       "    </tr>\n",
       "    <tr>\n",
       "      <th>4</th>\n",
       "      <td>5</td>\n",
       "      <td>(Sn, 5)</td>\n",
       "      <td>6</td>\n",
       "      <td>O O O O O O</td>\n",
       "    </tr>\n",
       "  </tbody>\n",
       "</table>\n",
       "</div>"
      ],
      "text/plain": [
       "   site_index     site  cn_start     nn_start\n",
       "0           1  (Sn, 1)         5    O O O O O\n",
       "1           2  (Sn, 2)         6  O O O O O O\n",
       "2           3  (Sn, 3)         6  O O O O O O\n",
       "3           4  (Sn, 4)         6  O O O O O O\n",
       "4           5  (Sn, 5)         6  O O O O O O"
      ]
     },
     "execution_count": 9,
     "metadata": {},
     "output_type": "execute_result"
    }
   ],
   "source": [
    "# simple example on the binary SnO2\n",
    "df = simple_nn(start=str(path_to_analysis_data.joinpath('CONTCAR_SnO2')), \n",
    "          elements=['Sn', 'O'],\n",
    "          save_csv=False)\n",
    "\n",
    "df.head()"
   ]
  },
  {
   "cell_type": "markdown",
   "metadata": {},
   "source": [
    "In this `complex_nn` example, we save the data as a csv. "
   ]
  },
  {
   "cell_type": "code",
   "execution_count": 10,
   "metadata": {},
   "outputs": [],
   "source": [
    "# Complex example on a quinary system\n",
    "complex_nn(start=str(path_to_analysis_data.joinpath('POSCAR_LTA_010')), \n",
    "           elements=['La', 'Ag', 'Ti', 'O', 'S'], \n",
    "           cut_off_dict={('Ag','S'): 3.09,\n",
    "                          ('La','O'): 2.91,\n",
    "                          ('La','S'): 3.559,\n",
    "                          ('Ti','O'): 2.35,\n",
    "                          ('Ti','S'): 2.91,}, \n",
    "           csv_fname='LTA_nn.csv')"
   ]
  },
  {
   "cell_type": "markdown",
   "metadata": {},
   "source": [
    "## Miscellaneous \n",
    "Find the displacements of each atom after relaxation. The function only prints out the displacement greater than the maximum distance specified. As always, the data can be saved, this time in a txt file. "
   ]
  },
  {
   "cell_type": "code",
   "execution_count": 11,
   "metadata": {},
   "outputs": [
    {
     "data": {
      "text/html": [
       "<div>\n",
       "<style scoped>\n",
       "    .dataframe tbody tr th:only-of-type {\n",
       "        vertical-align: middle;\n",
       "    }\n",
       "\n",
       "    .dataframe tbody tr th {\n",
       "        vertical-align: top;\n",
       "    }\n",
       "\n",
       "    .dataframe thead th {\n",
       "        text-align: right;\n",
       "    }\n",
       "</style>\n",
       "<table border=\"1\" class=\"dataframe\">\n",
       "  <thead>\n",
       "    <tr style=\"text-align: right;\">\n",
       "      <th></th>\n",
       "      <th>site</th>\n",
       "      <th>atom</th>\n",
       "      <th>displacement</th>\n",
       "    </tr>\n",
       "  </thead>\n",
       "  <tbody>\n",
       "    <tr>\n",
       "      <th>0</th>\n",
       "      <td>1</td>\n",
       "      <td>(La, 1)</td>\n",
       "      <td>0.329</td>\n",
       "    </tr>\n",
       "    <tr>\n",
       "      <th>1</th>\n",
       "      <td>2</td>\n",
       "      <td>(La, 2)</td>\n",
       "      <td>0.450</td>\n",
       "    </tr>\n",
       "    <tr>\n",
       "      <th>2</th>\n",
       "      <td>3</td>\n",
       "      <td>(La, 3)</td>\n",
       "      <td>0.450</td>\n",
       "    </tr>\n",
       "    <tr>\n",
       "      <th>3</th>\n",
       "      <td>4</td>\n",
       "      <td>(La, 4)</td>\n",
       "      <td>0.329</td>\n",
       "    </tr>\n",
       "    <tr>\n",
       "      <th>4</th>\n",
       "      <td>5</td>\n",
       "      <td>(La, 5)</td>\n",
       "      <td>0.195</td>\n",
       "    </tr>\n",
       "  </tbody>\n",
       "</table>\n",
       "</div>"
      ],
      "text/plain": [
       "   site     atom displacement\n",
       "0     1  (La, 1)        0.329\n",
       "1     2  (La, 2)        0.450\n",
       "2     3  (La, 3)        0.450\n",
       "3     4  (La, 4)        0.329\n",
       "4     5  (La, 5)        0.195"
      ]
     },
     "execution_count": 11,
     "metadata": {},
     "output_type": "execute_result"
    }
   ],
   "source": [
    "df = cart_displacements(start=str(path_to_analysis_data.joinpath('POSCAR_LTA_010')), \n",
    "                   end=str(path_to_analysis_data.joinpath('CONTCAR_LTA_010')), \n",
    "                   elements=['La','Ti','Ag','S','O'], \n",
    "                   save_txt=False)\n",
    "df.head()"
   ]
  }
 ],
 "metadata": {
  "kernelspec": {
   "display_name": "Python 3",
   "language": "python",
   "name": "python3"
  },
  "language_info": {
   "codemirror_mode": {
    "name": "ipython",
    "version": 3
   },
   "file_extension": ".py",
   "mimetype": "text/x-python",
   "name": "python",
   "nbconvert_exporter": "python",
   "pygments_lexer": "ipython3",
   "version": "3.7.4"
  }
 },
 "nbformat": 4,
 "nbformat_minor": 4
}
