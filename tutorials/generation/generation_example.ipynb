{
 "cells": [
  {
   "cell_type": "markdown",
   "metadata": {},
   "source": [
    "`surfaxe` `generation` module allows for easy generation of zero-dipole symmetric slabs for convergence testing purposes either up to a maximum Miller index or for a specific Miller index. By passing the structure, required Miller index variable, and lists of slab and vacuum thicknesses, `get_all_slabs` and `get_one_hkl_slabs` can generate unique zero-dipole symmetric surface slabs for all combinations of slab and vacuum thickness. "
   ]
  },
  {
   "cell_type": "code",
   "execution_count": 1,
   "metadata": {},
   "outputs": [],
   "source": [
    "from surfaxe.generation import get_slabs_max_index, get_slabs_single_hkl"
   ]
  },
  {
   "cell_type": "markdown",
   "metadata": {},
   "source": [
    "To generate all unique zero-dipole symmetric slabs up to a max Miller index of 1 without putting them into separate folders with input files: "
   ]
  },
  {
   "cell_type": "code",
   "execution_count": 2,
   "metadata": {},
   "outputs": [],
   "source": [
    "get_slabs_max_index(structure='./CONTCAR_conventional', \n",
    "                    max_index=1, \n",
    "                    thicknesses=[20,30], \n",
    "                    vacuums=[20,30])"
   ]
  },
  {
   "cell_type": "markdown",
   "metadata": {},
   "source": [
    "By default `save_slabs` is `True` which means the slabs are saved to file. If set to `False` the function returns a list of dictionaries containing the slab structures and the slab identifying information, which can then be passed to automated workflows. \n",
    "\n",
    "The default behaviour of `make_fols` is to write the slabs to a folder named after the formula of the bulk structure provided. The POSCARs in this file are named `POSCAR_hkl_slab_vacuum_index`, where hkl is the Miller index, slab and vacuum are the slab and vacuum thicknesses and index is the index of the slab. \n",
    "\n",
    "If `make_fols=True` it will put the slabs into folders with the following structure: `hkl/slab_vacuum_index/POSCAR` at the root where the code is being executed from. If `make_fols` is set to `False`, but `make_input_files` is `True`, the function assumes behaviour as if `make_fols=True`. \n",
    "\n",
    "For generation of input files using `make_input_files = True`, the configuration dictionary specifies reasonable INCAR tags, default POTCARS and KPOINTS. All pre-set configuration dictionaries can be accessed in a hidden `_config_dictionaries` folder as json files. Further customisation can be done either via `user_incar_settingsr`, `user_potcar_settings` and `user_kpoints_settings` arguments or by adding custom config scripts. \n",
    "\n",
    "Depending on the number of slab and vacuum thicknesses, the max hkl specified and the complexity of the system the `get_all_unique_slabs` script may be slow. "
   ]
  },
  {
   "cell_type": "markdown",
   "metadata": {},
   "source": [
    "To generate all unique slabs for a specified Miller index with the folder structure but without input files: "
   ]
  },
  {
   "cell_type": "code",
   "execution_count": 2,
   "metadata": {},
   "outputs": [
    {
     "name": "stderr",
     "output_type": "stream",
     "text": [
      "UserWarning: Not all combinations of hkl or slab/vac thicknesses were generated because of repeat structures. The repeat slabs are: 001_40_30_4, 001_20_40_4, 001_30_40_4, 001_40_40_4\n"
     ]
    }
   ],
   "source": [
    "get_slabs_single_hkl(structure='./CONTCAR_conventional', \n",
    "                    hkl=(0,0,1), \n",
    "                    thicknesses=[20,30,40], \n",
    "                    vacuums=[30,40], \n",
    "                    make_fols=True)"
   ]
  },
  {
   "cell_type": "markdown",
   "metadata": {},
   "source": [
    "For both generation scripts, UserWarnings are raised if there are repeat slabs and if the slabs are greater than the specified maximum size (default is 500 atoms). If a slab has a number of atoms greater than the `max_size`, it will be written out but a warning will be raised. In the case of repeat slabs where the structure of one surface slab matches another perfectly, the second instance will not be written out. The warning specifies exacty which slabs were omitted. \n",
    "\n",
    "The oxidation states are added to the bulk structure by guess by default but can be added by element or by site as well. \n",
    "\n",
    "The slabs are centered by default - this makes the addition of adsorbates easier. The slabs are orthogonalised by default using the LLL reduction algorithm. For full customisabilty, all pymatgen `SlabGenerator`,  `generate_all_slabs` and `DictSet` keyword arguments are supported but not documented here.  \n",
    "\n",
    "For non-centrosymmetric bulk structures, the flag `is_symmetric` needs to be set to `False`.  Pymatgen looks for inversion symmetry which no slab cleaved from a non-centrosymmetric bulk will have so no slabs would be generated if `is_symmetric` was set to `True`.  "
   ]
  },
  {
   "cell_type": "code",
   "execution_count": null,
   "metadata": {},
   "outputs": [],
   "source": []
  }
 ],
 "metadata": {
  "kernelspec": {
   "display_name": "Python 3",
   "language": "python",
   "name": "python3"
  },
  "language_info": {
   "codemirror_mode": {
    "name": "ipython",
    "version": 3
   },
   "file_extension": ".py",
   "mimetype": "text/x-python",
   "name": "python",
   "nbconvert_exporter": "python",
   "pygments_lexer": "ipython3",
   "version": "3.7.4"
  }
 },
 "nbformat": 4,
 "nbformat_minor": 4
}
