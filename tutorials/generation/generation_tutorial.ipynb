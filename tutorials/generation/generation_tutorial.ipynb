{
 "cells": [
  {
   "cell_type": "markdown",
   "metadata": {},
   "source": [
    "# Generation tutorial\n",
    "\n",
    "This tutorial shows you how to generate slabs of different thicknesses, terminations and Miller indices systematically. It is commonly required to run a series of calculations on a set of slabs for one material to answer the questions: \n",
    "\n",
    "- How thick should my slab be to ensure it is bulk-like in the centre? \n",
    "- How much vacuum do I need to ensure one side of the slab does not interact with the other? (this is particularly useful for codes like VASP which enforce 3D periodic boundary conditions)\n",
    "- Which Miller index and termination combinations have zero net dipole?\n",
    "- Which Miller index and termination combinations have the lowest surface energy? \n",
    "\n",
    "The `surfaxe.generation` module allows for easy generation of zero-dipole, symmetric slabs for convergence testing purposes either up to a maximum Miller index or for a specific Miller index. \n",
    "\n",
    "By passing the structure, required Miller index, and lists of slab and vacuum thicknesses, `get_all_slabs` and `get_one_hkl_slabs` can generate unique zero-dipole symmetric surface slabs for all combinations of slab and vacuum thickness. As ever, [pymatgen](https://pymatgen.org) does most of the heavy lifting, but we have extra options to:\n",
    " \n",
    "- Detect duplicated slabs\n",
    "- Automatically save structures in a sensible file format\n",
    "- Additionally save other DFT calculation input files so each slab is ready to run\n",
    "- Output the directory structure in such a way that once the DFT calculations are run, `surfaxe.convergence` can easily extract the key data and plot it"
   ]
  },
  {
   "cell_type": "code",
   "execution_count": 1,
   "metadata": {
    "ExecuteTime": {
     "end_time": "2021-03-19T15:05:25.378576Z",
     "start_time": "2021-03-19T15:05:12.327782Z"
    }
   },
   "outputs": [],
   "source": [
    "# Import from relevant surfaxe modules\n",
    "from surfaxe.generation import get_slabs_max_index, get_slabs_single_hkl\n",
    "\n",
    "# Misc imports\n",
    "from pathlib import Path\n",
    "import os\n",
    "\n",
    "# Ignore some specific benign warnings \n",
    "import warnings\n",
    "warnings.filterwarnings(\"always\")\n",
    "warnings.filterwarnings(\"ignore\", message=\"numpy.ufunc size changed\")\n",
    "warnings.filterwarnings(\"ignore\", message=\"POTCAR data\")\n",
    "warnings.filterwarnings(\"ignore\", message=\"Overriding the POTCAR functional\")\n",
    "warnings.filterwarnings(\"ignore\", message=r\".*is a deprecated alias for the builtin.*\")\n",
    "warnings.filterwarnings(\"ignore\", message=r\".*should_run_async.*\")"
   ]
  },
  {
   "cell_type": "code",
   "execution_count": 2,
   "metadata": {},
   "outputs": [],
   "source": [
    "# Set path to example data \n",
    "path_to_gener_data = Path.cwd().parents[1].joinpath('example_data/generation')"
   ]
  },
  {
   "cell_type": "markdown",
   "metadata": {},
   "source": [
    "## Generate slabs for a specified Miller index\n",
    "This simple example uses the output structure from a bulk relaxation of Y2Ti2S2O5. We create a series of slabs with thickness of 20 and 30 Angstroms, and vacuum thicknesses of 20, 30, 40 and 50 angstroms in the (0,0,1) direction. We suppress the default behaviour of saving input files by setting `save_slabs=False`."
   ]
  },
  {
   "cell_type": "code",
   "execution_count": 6,
   "metadata": {},
   "outputs": [
    {
     "name": "stdout",
     "output_type": "stream",
     "text": [
      "6 slabs generated\n"
     ]
    },
    {
     "name": "stderr",
     "output_type": "stream",
     "text": [
      "UserWarning: Not all combinations of hkl or slab/vac thicknesses were generated because of repeat structures. The repeat slabs are: 001_20_40_4, 001_30_40_4, 001_40_20_4, 001_40_30_4, 001_40_40_4, 001_40_50_4\n"
     ]
    }
   ],
   "source": [
    "slabs_001 = get_slabs_single_hkl(\n",
    "                    structure=os.path.join(path_to_gener_data,'CONTCAR_conventional'),\n",
    "                    hkl=(0,0,1), \n",
    "                    thicknesses=[20,30,40], vacuums=[20,30,40,50], \n",
    "                    save_slabs=False)\n",
    "\n",
    "print('{} slabs generated'.format(len(slabs_001)))"
   ]
  },
  {
   "cell_type": "markdown",
   "metadata": {},
   "source": [
    "If you leave `thicknesses=[20,30,40], vacuums=[20,30,40,50]` you will get a warning about repeted slabs that have been removed from the final list. We can inspect one entry of the list which is a dictionary, containing details and the slab itself as a pymatgen structure:"
   ]
  },
  {
   "cell_type": "code",
   "execution_count": 12,
   "metadata": {},
   "outputs": [
    {
     "name": "stdout",
     "output_type": "stream",
     "text": [
      "{'hkl': '001', 'slab_t': 20, 'vac_t': 20, 's_index': 4, 'slab': Structure Summary\n",
      "Lattice\n",
      "    abc : 3.7700229987365135 3.7700229987365135 45.407026909472286\n",
      " angles : 90.0 90.0 90.0\n",
      " volume : 645.3734068396844\n",
      "      A : 3.7700229987365135 0.0 2.308473299057289e-16\n",
      "      B : -2.308473299057289e-16 3.7700229987365135 2.308473299057289e-16\n",
      "      C : 0.0 0.0 45.407026909472286\n",
      "PeriodicSite: Y3+ (1.8850, 1.8850, 20.8243) [0.5000, 0.5000, 0.4586]\n",
      "PeriodicSite: Y3+ (0.0000, 0.0000, 1.8792) [0.0000, 0.0000, 0.0414]\n",
      "PeriodicSite: Y3+ (0.0000, 0.0000, 9.4726) [0.0000, 0.0000, 0.2086]\n",
      "PeriodicSite: Y3+ (1.8850, 1.8850, 13.2309) [0.5000, 0.5000, 0.2914]\n",
      "PeriodicSite: Ti4+ (1.8850, 1.8850, 3.8570) [0.5000, 0.5000, 0.0849]\n",
      "PeriodicSite: Ti4+ (0.0000, 0.0000, 18.8465) [0.0000, 0.0000, 0.4151]\n",
      "PeriodicSite: Ti4+ (0.0000, 0.0000, 15.2088) [0.0000, 0.0000, 0.3349]\n",
      "PeriodicSite: Ti4+ (1.8850, 1.8850, 7.4947) [0.5000, 0.5000, 0.1651]\n",
      "PeriodicSite: S2- (1.8850, 1.8850, 1.0037) [0.5000, 0.5000, 0.0221]\n",
      "PeriodicSite: S2- (0.0000, 0.0000, 21.6998) [0.0000, 0.0000, 0.4779]\n",
      "PeriodicSite: S2- (0.0000, 0.0000, 12.3554) [0.0000, 0.0000, 0.2721]\n",
      "PeriodicSite: S2- (1.8850, 1.8850, 10.3481) [0.5000, 0.5000, 0.2279]\n",
      "PeriodicSite: O2- (0.0000, 0.0000, 17.0276) [0.0000, 0.0000, 0.3750]\n",
      "PeriodicSite: O2- (-0.0000, 1.8850, 3.3800) [0.0000, 0.5000, 0.0744]\n",
      "PeriodicSite: O2- (-0.0000, 1.8850, 19.3235) [0.0000, 0.5000, 0.4256]\n",
      "PeriodicSite: O2- (1.8850, 0.0000, 3.3800) [0.5000, 0.0000, 0.0744]\n",
      "PeriodicSite: O2- (1.8850, 0.0000, 19.3235) [0.5000, 0.0000, 0.4256]\n",
      "PeriodicSite: O2- (1.8850, 1.8850, 5.6759) [0.5000, 0.5000, 0.1250]\n",
      "PeriodicSite: O2- (1.8850, 0.0000, 14.7318) [0.5000, 0.0000, 0.3244]\n",
      "PeriodicSite: O2- (1.8850, 0.0000, 7.9717) [0.5000, 0.0000, 0.1756]\n",
      "PeriodicSite: O2- (-0.0000, 1.8850, 14.7318) [0.0000, 0.5000, 0.3244]\n",
      "PeriodicSite: O2- (-0.0000, 1.8850, 7.9717) [0.0000, 0.5000, 0.1756]}\n"
     ]
    }
   ],
   "source": [
    "print(slabs_001[0])"
   ]
  },
  {
   "cell_type": "markdown",
   "metadata": {},
   "source": [
    "Note: `s_index` is the position of the slab in the list of provisional slabs generated for each vacuum-slab thickness combo by the [underlying pymatgen function](https://pymatgen.org/pymatgen.core.surface.html#pymatgen.core.surface.SlabGenerator) before surfaxe gets rid of those with a dipole. The list is ordered by number of bonds broken to form the surface. It may be useful for book-keeping and debugging purposes, if you want to use the pymatgen function directly to more fully explore possible surface terminations of your material."
   ]
  },
  {
   "cell_type": "markdown",
   "metadata": {},
   "source": [
    "## Generate all slabs up to a maximum Miller index"
   ]
  },
  {
   "cell_type": "markdown",
   "metadata": {},
   "source": [
    "We can generate all unique, zero-dipole, symmetric slabs up to a max Miller index of 1, this time for a smaller selection of slab and vacuum thicknesses: "
   ]
  },
  {
   "cell_type": "markdown",
   "metadata": {},
   "source": [
    "<div class=\"alert alert-info\">\n",
    "\n",
    "**Note:** If you are running this on Binder, you may want to reduce the number of vacuum and slab thicknesses to try for it to finish in a reasonable time. Try `thicknesses=[20,40], vacuums=[20]`.\n",
    "\n",
    "</div>"
   ]
  },
  {
   "cell_type": "code",
   "execution_count": 16,
   "metadata": {},
   "outputs": [],
   "source": [
    "get_slabs_max_index(\n",
    "    structure=os.path.join(path_to_gener_data,'CONTCAR_conventional'),\n",
    "                    max_index=1, \n",
    "                    thicknesses=[20,30], \n",
    "                    vacuums=[20,30])"
   ]
  },
  {
   "cell_type": "markdown",
   "metadata": {},
   "source": [
    "By default `save_slabs=True`, so the structure files are saved to files. A directory has been created locally called `Y4Ti4S4O10` and each structure has been named in the format `POSCAR_miller-index_slab-thickness_vacuum-thickness_s-index`. The VASP POSCAR file is the default, but any other input file supported by pymatgen can be supplied as the `fmt` argument.  \n",
    "\n",
    "### Make separate folders\n",
    "\n",
    "We can get the function to organise these into directories by setting `make_fols=True`. The structure files will go into subfolders with the following structure: `hkl/slab_vacuum_index/POSCAR` in the `Y4Ti4S4O10` directory. "
   ]
  },
  {
   "cell_type": "code",
   "execution_count": 3,
   "metadata": {},
   "outputs": [],
   "source": [
    "get_slabs_max_index(\n",
    "    structure=os.path.join(path_to_gener_data,'CONTCAR_conventional'),\n",
    "                    max_index=1, \n",
    "                    thicknesses=[20,30], \n",
    "                    vacuums=[20,30], make_fols=True)"
   ]
  },
  {
   "cell_type": "markdown",
   "metadata": {},
   "source": [
    "### Make all input files\n",
    "This is currently only supported for VASP input files.\n",
    "\n",
    "For generation of input files using `make_input_files=True`, reasonable INCAR tags, default POTCARS and KPOINTS are set according to preset configuration dictionaries (you can view them in the `suraxe/_config_dictionaries` directory). Further customisation can be done either via `user_incar_settings`, `user_potcar_settings` and `user_kpoints_settings` arguments or by adding custom config scripts. See the relevant docs of the underlying [pymaten module](https://pymatgen.org/pymatgen.io.vasp.sets.html). "
   ]
  },
  {
   "cell_type": "markdown",
   "metadata": {},
   "source": [
    "<div class=\"alert alert-info\">\n",
    "\n",
    "**Note:** This example requires that you have [set up your pymatgen POTCAR environment](https://pymatgen.org/installation.html#potcar-setup). It will not run on Binder or without first setting up your POTCAR directory. \n",
    "\n",
    "</div>"
   ]
  },
  {
   "cell_type": "code",
   "execution_count": 8,
   "metadata": {},
   "outputs": [],
   "source": [
    "get_slabs_max_index(\n",
    "    structure=os.path.join(path_to_gener_data,'CONTCAR_conventional'),\n",
    "                    max_index=1, \n",
    "                    thicknesses=[20,30], \n",
    "                    vacuums=[20,30], make_input_files=True)"
   ]
  },
  {
   "cell_type": "markdown",
   "metadata": {},
   "source": [
    "Notes:\n",
    "\n",
    "- Depending on the number of slab and vacuum thicknesses, the max hkl specified and the complexity of the system the `get_all_unique_slabs` script may get slow. \n",
    "\n",
    "- If `make_fols` is set to `False`, but `make_input_files` is `True`, the function assumes behaviour as if `make_fols=True`. \n",
    "\n",
    "- For both generation scripts, UserWarnings are raised if there are repeat slabs and if the slabs are greater than the specified maximum size (default is 500 atoms). If a slab has a number of atoms greater than the `max_size`, it will be written out but a warning will be raised. \n",
    "\n",
    "- Oxidation states are added to the bulk structure by guess by default but can be added by element or by site as well.\n",
    "\n",
    "- The slabs are centered by default - this makes the addition of adsorbates easier. The slabs are orthogonalised by default using the LLL reduction algorithm. For full customisabilty, all pymatgen `SlabGenerator`,  `generate_all_slabs` and `DictSet` keyword arguments are supported but not fully documented here.  \n",
    "\n",
    "- By default surfaxe searches for slabs with Laue (inversion) symmetry. Such slabs cannot be cleaved from non-centrosymmetric bulk structures as they do not contain inversion symmetry. Surfaxe will automatically detect if the bulk structure is non-centrosymmetric and cleave zero-dipole slabs, regardless of their space group. The `is_symmetric` tag can be used with centrosymmetric structures to obtain all non-polar slabs, not just the symmetric ones. "
   ]
  },
  {
   "cell_type": "code",
   "execution_count": null,
   "metadata": {},
   "outputs": [],
   "source": []
  }
 ],
 "metadata": {
  "kernelspec": {
   "display_name": "Python 3",
   "language": "python",
   "name": "python3"
  },
  "language_info": {
   "codemirror_mode": {
    "name": "ipython",
    "version": 3
   },
   "file_extension": ".py",
   "mimetype": "text/x-python",
   "name": "python",
   "nbconvert_exporter": "python",
   "pygments_lexer": "ipython3",
   "version": "3.7.4"
  }
 },
 "nbformat": 4,
 "nbformat_minor": 4
}
