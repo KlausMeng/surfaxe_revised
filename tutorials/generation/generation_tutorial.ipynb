{
 "cells": [
  {
   "cell_type": "markdown",
   "source": [
    "# Generation tutorial\n",
    "\n",
    "This tutorial shows you how to generate slabs of different thicknesses, terminations and Miller indices systematically. It is commonly required to run a series of calculations on a set of slabs for one material to answer the questions: \n",
    "\n",
    "- How thick should my slab be to ensure it is bulk-like in the centre? \n",
    "- How much vacuum do I need to ensure one side of the slab does not interact with the other? (this is particularly useful for codes like VASP which enforce 3D periodic boundary conditions)\n",
    "- Which Miller index and termination combinations have zero net dipole?\n",
    "- Which Miller index and termination combinations have the lowest surface energy? \n",
    "\n",
    "The `surfaxe.generation` module allows for easy generation of zero-dipole, symmetric slabs for convergence testing purposes either up to a maximum Miller index or for a specific Miller index. \n",
    "\n",
    "By passing the structure, required Miller index, and lists of slab and vacuum thicknesses, `generate_slabs` can generate unique zero-dipole symmetric surface slabs for all combinations of slab and vacuum thickness. As ever, [pymatgen](https://pymatgen.org) does most of the heavy lifting, but we have extra options to:\n",
    " \n",
    "- Detect duplicated slabs\n",
    "- Automatically save structures in a sensible file format with some additional structure site properties\n",
    "- Additionally save other DFT calculation input files so each slab is ready to run\n",
    "- Output the directory structure in such a way that once the DFT calculations are run, `surfaxe.convergence` can easily extract the key data and plot it"
   ],
   "metadata": {}
  },
  {
   "cell_type": "code",
   "execution_count": 1,
   "source": [
    "# Import from relevant surfaxe modules\n",
    "from surfaxe.generation import generate_slabs\n",
    "\n",
    "# Misc imports\n",
    "from pathlib import Path\n",
    "import os\n",
    "\n",
    "# Ignore some specific benign warnings \n",
    "import warnings\n",
    "warnings.filterwarnings(\"always\")\n",
    "warnings.filterwarnings(\"ignore\", message=\"numpy.ufunc size changed\")\n",
    "warnings.filterwarnings(\"ignore\", message=\"POTCAR data\")\n",
<<<<<<< HEAD
    "warnings.filterwarnings(\"ignore\", message=\"Overriding the POTCAR functional\")\n",
    "warnings.filterwarnings(\"ignore\", message=r\".*is a deprecated alias for the builtin.*\")\n",
    "warnings.filterwarnings(\"ignore\", message=r\".*should_run_async.*\")"
   ]
=======
    "warnings.filterwarnings(\"ignore\", message=\"Overriding the POTCAR functional\")"
   ],
   "outputs": [],
   "metadata": {}
>>>>>>> develop
  },
  {
   "cell_type": "code",
   "execution_count": 2,
   "source": [
    "# Set path to example data \n",
    "path_to_gener_data = Path.cwd().parents[1].joinpath('example_data/generation')"
   ],
   "outputs": [],
   "metadata": {}
  },
  {
   "cell_type": "markdown",
   "source": [
    "## Generate slabs for a specified Miller index\n",
    "This simple example uses the output structure from a bulk relaxation of Y$_2$Ti$_2$S$_2$O$_5$. We create a series of slabs with thickness of 20, 30 and 40 Å, and vacuum thicknesses of 20, 30, 40 and 50 Å in the (0,0,1) direction. We suppress the default behaviour of saving input files by setting `save_slabs=False`."
   ],
   "metadata": {}
  },
  {
   "cell_type": "code",
   "execution_count": null,
   "source": [
    "slabs_001 = generate_slabs(\n",
    "                    structure=os.path.join(path_to_gener_data,'CONTCAR_conventional'),\n",
    "                    hkl=(0,0,1), \n",
    "                    thicknesses=[20,30,40], vacuums=[20,30,40,50], \n",
    "                    save_slabs=False,\n",
    "                    save_metadata=False)\n",
    "\n",
    "print('{} slabs generated'.format(len(slabs_001)))"
   ],
   "outputs": [],
   "metadata": {
    "tags": [
     "outputPrepend"
    ]
   }
  },
  {
   "cell_type": "markdown",
   "source": [
<<<<<<< HEAD
    "If you leave `thicknesses=[20,30,40], vacuums=[20,30,40,50]` you will get a warning about repeted slabs that have been removed from the final list. We can inspect one entry of the list which is a dictionary, containing details and the slab itself as a pymatgen structure:"
   ]
=======
    "We get a warning about repeted slabs that have been removed from the final list. We can inspect one entry of the list which is a dictionary, containing details and the slab itself as a pymatgen structure:"
   ],
   "metadata": {}
>>>>>>> develop
  },
  {
   "cell_type": "code",
   "execution_count": 12,
   "source": [
    "print(slabs_001[0])"
   ],
   "outputs": [
    {
     "output_type": "stream",
     "name": "stdout",
     "text": [
      "{'hkl': '001', 'slab_t': 20, 'vac_t': 20, 's_index': 4, 'slab': Structure Summary\n",
      "Lattice\n",
      "    abc : 3.7700229987365135 3.7700229987365135 45.407026909472286\n",
      " angles : 90.0 90.0 90.0\n",
      " volume : 645.3734068396844\n",
      "      A : 3.7700229987365135 0.0 2.308473299057289e-16\n",
      "      B : -2.308473299057289e-16 3.7700229987365135 2.308473299057289e-16\n",
      "      C : 0.0 0.0 45.407026909472286\n",
      "PeriodicSite: Y3+ (1.8850, 1.8850, 20.8243) [0.5000, 0.5000, 0.4586]\n",
      "PeriodicSite: Y3+ (0.0000, 0.0000, 1.8792) [0.0000, 0.0000, 0.0414]\n",
      "PeriodicSite: Y3+ (0.0000, 0.0000, 9.4726) [0.0000, 0.0000, 0.2086]\n",
      "PeriodicSite: Y3+ (1.8850, 1.8850, 13.2309) [0.5000, 0.5000, 0.2914]\n",
      "PeriodicSite: Ti4+ (1.8850, 1.8850, 3.8570) [0.5000, 0.5000, 0.0849]\n",
      "PeriodicSite: Ti4+ (0.0000, 0.0000, 18.8465) [0.0000, 0.0000, 0.4151]\n",
      "PeriodicSite: Ti4+ (0.0000, 0.0000, 15.2088) [0.0000, 0.0000, 0.3349]\n",
      "PeriodicSite: Ti4+ (1.8850, 1.8850, 7.4947) [0.5000, 0.5000, 0.1651]\n",
      "PeriodicSite: S2- (1.8850, 1.8850, 1.0037) [0.5000, 0.5000, 0.0221]\n",
      "PeriodicSite: S2- (0.0000, 0.0000, 21.6998) [0.0000, 0.0000, 0.4779]\n",
      "PeriodicSite: S2- (0.0000, 0.0000, 12.3554) [0.0000, 0.0000, 0.2721]\n",
      "PeriodicSite: S2- (1.8850, 1.8850, 10.3481) [0.5000, 0.5000, 0.2279]\n",
      "PeriodicSite: O2- (0.0000, 0.0000, 17.0276) [0.0000, 0.0000, 0.3750]\n",
      "PeriodicSite: O2- (-0.0000, 1.8850, 3.3800) [0.0000, 0.5000, 0.0744]\n",
      "PeriodicSite: O2- (-0.0000, 1.8850, 19.3235) [0.0000, 0.5000, 0.4256]\n",
      "PeriodicSite: O2- (1.8850, 0.0000, 3.3800) [0.5000, 0.0000, 0.0744]\n",
      "PeriodicSite: O2- (1.8850, 0.0000, 19.3235) [0.5000, 0.0000, 0.4256]\n",
      "PeriodicSite: O2- (1.8850, 1.8850, 5.6759) [0.5000, 0.5000, 0.1250]\n",
      "PeriodicSite: O2- (1.8850, 0.0000, 14.7318) [0.5000, 0.0000, 0.3244]\n",
      "PeriodicSite: O2- (1.8850, 0.0000, 7.9717) [0.5000, 0.0000, 0.1756]\n",
      "PeriodicSite: O2- (-0.0000, 1.8850, 14.7318) [0.0000, 0.5000, 0.3244]\n",
      "PeriodicSite: O2- (-0.0000, 1.8850, 7.9717) [0.0000, 0.5000, 0.1756]}\n"
     ]
    }
   ],
   "metadata": {}
  },
  {
   "cell_type": "markdown",
   "source": [
    "Note: `slab_index` is the position of the slab in the list of provisional slabs generated for each vacuum-slab thickness combo by the [underlying pymatgen function](https://pymatgen.org/pymatgen.core.surface.html#pymatgen.core.surface.SlabGenerator) before surfaxe gets rid of those with a dipole. The list is ordered by number of bonds broken to form the surface. It may be useful for book-keeping and debugging purposes, if you want to use the pymatgen function directly to more fully explore possible surface terminations of your material."
   ],
   "metadata": {}
  },
  {
   "cell_type": "markdown",
   "source": [
    "## Generate slabs for multiple specified Miller indices\n",
    "We can also use the same function to generate a series of slabs with thickness of 20, 30 and 40 Å, and vacuum thicknesses of 20, 30, 40 and 50 Å in the (0,0,1) and (1,0,1) directions. "
   ],
   "metadata": {}
  },
  {
   "cell_type": "code",
   "execution_count": null,
   "source": [
    "slabs_001_101 = generate_slabs(\n",
    "                    structure=os.path.join(path_to_gener_data,'CONTCAR_conventional'),\n",
    "                    hkl=[(0,0,1), (1,0,1)], \n",
    "                    thicknesses=[20,30,40], vacuums=[20,30,40,50], \n",
    "                    save_slabs=False, \n",
    "                    save_metadata=False)\n",
    "\n",
    "print('{} slabs generated'.format(len(slabs_001)))"
   ],
   "outputs": [],
   "metadata": {
    "tags": [
     "outputPrepend"
    ]
   }
  },
  {
   "cell_type": "markdown",
   "source": [
    "## Generate all slabs up to a maximum Miller index"
   ],
   "metadata": {}
  },
  {
   "cell_type": "markdown",
   "source": [
    "We can generate all unique, zero-dipole, symmetric slabs up to a max Miller index of 2, this time for a smaller selection of slab and vacuum thicknesses: "
   ],
   "metadata": {}
  },
  {
   "cell_type": "markdown",
   "metadata": {},
   "source": [
    "<div class=\"alert alert-info\">\n",
    "\n",
    "**Note:** If you are running this on Binder, you may want to reduce the number of vacuum and slab thicknesses to try for it to finish in a reasonable time. Try `thicknesses=[20,40], vacuums=[20]`.\n",
    "\n",
    "</div>"
   ]
  },
  {
   "cell_type": "code",
   "execution_count": null,
   "source": [
    "generate_slabs(\n",
    "    structure=os.path.join(path_to_gener_data,'CONTCAR_conventional'),\n",
    "                    hkl=2, \n",
    "                    thicknesses=[20,40], \n",
    "                    vacuums=[20,30],\n",
    "                    save_metadata=False)"
   ],
   "outputs": [],
   "metadata": {
    "tags": []
   }
  },
  {
   "cell_type": "markdown",
   "source": [
    "By default `save_slabs=True`, so the structure files are saved to files. A directory has been created locally called `Y4Ti4S4O10` and each structure has been named in the format `POSCAR_miller-index_slab-thickness_vacuum-thickness_slab-index`. The VASP POSCAR file is the default, but any other input file supported by pymatgen can be supplied as the `fmt` argument.  \n",
    "\n",
    "### Make separate folders\n",
    "\n",
    "We can get the function to organise these into directories by setting `make_fols=True`. The structure files will go into subfolders with the following structure: `hkl/slab_vacuum_index/POSCAR` in the `Y4Ti4S4O10` directory. "
   ],
   "metadata": {}
  },
  {
   "cell_type": "code",
   "execution_count": 3,
   "source": [
    "generate_slabs(\n",
    "    structure=os.path.join(path_to_gener_data,'CONTCAR_conventional'),\n",
    "                    hkl=1, \n",
    "                    thicknesses=[20,30], \n",
    "                    vacuums=[20,30], make_fols=True)"
   ],
   "outputs": [],
   "metadata": {}
  },
  {
   "cell_type": "markdown",
   "source": [
    "### Make all input files\n",
    "This is currently only supported for VASP input files.\n",
    "\n",
    "For generation of input files using `make_input_files=True`, reasonable INCAR tags, default POTCARS and KPOINTS are set according to preset configuration dictionaries (you can view them in the `suraxe/_config_dictionaries` directory). Further customisation can be done either via `user_incar_settings`, `user_potcar_settings` and `user_kpoints_settings` arguments or by adding custom config scripts. Surfaxe supports loading of json and yaml files as config dictionaries. See the relevant docs of the underlying [pymaten module](https://pymatgen.org/pymatgen.io.vasp.sets.html). "
   ],
   "metadata": {}
  },
  {
   "cell_type": "markdown",
   "source": [
    "<div class=\"alert alert-info\">\n",
    "\n",
    "**Note:** This example requires that you have [set up your pymatgen POTCAR environment](https://pymatgen.org/installation.html#potcar-setup). It will not run on Binder or without first setting up your POTCAR directory. POTCARs were also deleted from the example folders for copyright reasons. \n",
    "\n",
    "</div>"
   ],
   "metadata": {}
  },
  {
   "cell_type": "code",
   "execution_count": null,
   "source": [
    "generate_slabs(\n",
    "    structure=os.path.join(path_to_gener_data,'CONTCAR_conventional'),\n",
    "                    hkl=1, \n",
    "                    thicknesses=[20,30], \n",
    "                    vacuums=[20,30], \n",
    "                    potcar_functional='PBE_54', \n",
    "                    make_input_files=True)"
   ],
   "outputs": [],
   "metadata": {}
  },
  {
   "cell_type": "markdown",
   "source": [
    "In this example, the slab metadata was also saved to file. The json file contains the slabs, \n",
    "their slab and vacuum thicknesses and the corresponding number of layers. This allows for easy comparison of unrelaxed and relaxed slabs in convergence testing. "
   ],
   "metadata": {}
  },
  {
   "cell_type": "markdown",
   "source": [
    "Notes:\n",
    "\n",
    "- Depending on the number of slab and vacuum thicknesses, the max hkl specified and the complexity of the system the `get_all_unique_slabs` script may get slow. \n",
    "\n",
    "- If `make_fols` is set to `False`, but `make_input_files` is `True`, the function assumes behaviour as if `make_fols=True`. \n",
    "\n",
    "- For both generation scripts, UserWarnings are raised if there are repeat slabs and if the slabs are greater than the specified maximum size (default is 500 atoms). If a slab has a number of atoms greater than the `max_size`, it will be written out but a warning will be raised. \n",
    "\n",
    "- Oxidation states are added to the bulk structure by guess by default but can be added by element or by site as well.\n",
    "\n",
    "- The slabs are centered by default - this makes the addition of adsorbates easier. The slabs are orthogonalised by default using the LLL reduction algorithm. For full customisabilty, all pymatgen `SlabGenerator` and `DictSet` keyword arguments are supported but not fully documented here.  \n",
    "\n",
    "- By default surfaxe searches for slabs with Laue (inversion) symmetry. Such slabs cannot be cleaved from non-centrosymmetric bulk structures as they do not contain inversion symmetry. Surfaxe will automatically detect if the bulk structure is non-centrosymmetric and cleave zero-dipole slabs, regardless of their space group. The `is_symmetric` tag can be used with centrosymmetric structures to obtain all non-polar slabs, not just the symmetric ones. \n",
    "\n",
    "- The following configuration dictionaries are available in surfaxe: \n",
    "    - `ps` - PBEsol single shot (default)\n",
    "    - `ps_relax` - PBEsol relaxation \n",
    "    - `pe` - PBE single shot\n",
    "    - `pe_relax` - PBE relaxation\n",
    "    - `hse06` - HSE06 single shot\n",
    "   "
   ],
   "metadata": {}
  },
  {
   "cell_type": "markdown",
   "source": [],
   "metadata": {}
  }
 ],
 "metadata": {
  "kernelspec": {
   "name": "python3",
   "display_name": "Python 3.7.7 64-bit ('base': conda)"
  },
  "language_info": {
   "codemirror_mode": {
    "name": "ipython",
    "version": 3
   },
   "file_extension": ".py",
   "mimetype": "text/x-python",
   "name": "python",
   "nbconvert_exporter": "python",
   "pygments_lexer": "ipython3",
   "version": "3.7.7"
  },
  "interpreter": {
   "hash": "398dc28c06ad810e77de546bbdfa897a6ee0b83e59a5207339dda01a7843e01d"
  }
 },
 "nbformat": 4,
 "nbformat_minor": 4
}