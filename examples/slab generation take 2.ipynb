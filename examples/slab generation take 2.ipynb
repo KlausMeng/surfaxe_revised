{
 "cells": [
  {
   "cell_type": "code",
   "execution_count": 3,
   "metadata": {},
   "outputs": [],
   "source": [
    "from pymatgen.core.surface import SlabGenerator\n",
    "from pymatgen import Structure \n",
    "from pymatgen.core.surface import generate_all_slabs\n",
    "import functools \n",
    "import os\n",
    "import pandas as pd"
   ]
  },
  {
   "cell_type": "code",
   "execution_count": 2,
   "metadata": {},
   "outputs": [],
   "source": []
  },
  {
   "cell_type": "code",
   "execution_count": 54,
   "metadata": {},
   "outputs": [],
   "source": [
    "def generate_one_hkl_slab(structure, hkl, thicknesses, vacuums, lll_reduce=True, center_slab=True, make_dirs=False in_unit_planes=False, primitive=True, max_normal_search=None, reorient_lattice=True): \n",
    "    \"\"\"\n",
    "    generates all unique slabs for a specified hkl with min slab and vacuum thicknesses\n",
    "    Args: \n",
    "        structure (str): filename of structure file \n",
    "        hkl (tuple): miller index \n",
    "        thicknesses (list): min size in angstroms of the slab \n",
    "        vacuums (list): min size in angstroms of vacuum \n",
    "        lll_reduce (bool): if true it keeps the slab angles reasonable-ish\n",
    "        center_slab (bool): if true slab is centred to the middle of unit cell with equal layers of vacuum above and below\n",
    "        other args are pymatgen defaults \n",
    "    Returns: \n",
    "        POSCAR_hkl_slab_vac_index.vasp \n",
    "    \"\"\"\n",
    "    \n",
    "    struc = Structure.from_file(structure)\n",
    "    struc.add_oxidation_state_by_guess()\n",
    "    \n",
    "    provisional_slabs = []\n",
    "    \n",
    "    for thickness in thicknesses: \n",
    "        for vacuum in vacuums: \n",
    "            slabgen = SlabGenerator(struc, hkl, thickness, vacuum,lll_reduce=lll_reduce, center_slab=center_slab)\n",
    "            slabs = slabgen.get_slabs()\n",
    "            for i, slab in enumerate(slabs): \n",
    "                if (slab.is_polar() == False) and (slab.is_symmetric() == True): \n",
    "                    provisional_slabs.append({'hkl': ''.join(map(str, slab.miller_index)), \n",
    "                                              'slab_thickness': thickness, \n",
    "                                              'vacuum_thickness': vacuum, \n",
    "                                              'slab_index': i, \n",
    "                                              'slab': slab})\n",
    "                    \n",
    "    unique_slabs_list = []\n",
    "    unique_slabs_list_of_dicts = []\n",
    "    repeat_slabs = []\n",
    "    \n",
    "    for slab in provisional_slabs: \n",
    "        if slab['slab'] not in unique_slabs_list: \n",
    "            unique_slabs_list.append(slab['slab'])\n",
    "            unique_slabs_list_of_dicts.append(slab)\n",
    "        else:\n",
    "            repeat_slabs.append('{}_{}_{}_{}'.format(slab['hkl'], slab['slab_thickness'], slab['vacuum_thickness'], slab['slab_index']))\n",
    "    \n",
    "    \n",
    "    if make_dirs is True: \n",
    "        pass \n",
    "        #tuki pridem do problema ker nism zih kje tocno je cwd v tem primeru \n",
    "\n",
    "    for slab in unique_slabs_list_of_dicts: \n",
    "        slab['slab'].to(fmt='poscar',filename='POSCAR_{}_{}_{}_{}.vasp'.format(slab['hkl'], slab['slab_thickness'], slab['vacuum_thickness'], slab['slab_index']))\n",
    "    \n",
    "    \n",
    "    if len(provisional_slabs) != len(unique_slabs_list): \n",
    "        print('warning: not all combinations slab/vac thickness were generated because of repeat structures. make sure to manually check the missing slabs.')\n",
    "        print('the repeat slabs are: ' + ', '.join(map(str, repeat_slabs)))\n"
   ]
  },
  {
   "cell_type": "code",
   "execution_count": 10,
   "metadata": {},
   "outputs": [],
   "source": [
    "\n",
    "def generate_all_unique_slabs(structure, max_index, thicknesses, vacuums, lll_reduce=True, center_slab=True, bonds=None, tol=0.1, ftol=0.1, max_broken_bonds=0,\n",
    "                              primitive=True, max_normal_search=None, symmetrize=False, repair=False, include_reconstructions=False, in_unit_planes=False): \n",
    "    \"\"\" \n",
    "    generates all unique slabs with specified max hkl, min slab and vacuum thicknesses; including all combinations for multiple zero-dipole symmetric terminations for the same hkl\n",
    "    Args: \n",
    "        structure: filename of structure file; oxidation states added by guess \n",
    "        hkl (tuple): miller index \n",
    "        thicknesses (list): min size in angstroms of the slab \n",
    "        vacuums (list): min size in angstroms of vacuum \n",
    "        lll_reduce (bool): if true it keeps the slab angles reasonable-ish\n",
    "        center_slab (bool): slab is centred to the middle of unit cell with equal layers of vacuum above and below\n",
    "        other params are pymatgen defaults  \n",
    "    Returns: \n",
    "        POSCAR_hkl_slab_vac_index.vasp \n",
    "    \n",
    "    \"\"\"  \n",
    "    \n",
    "    struc = Structure.from_file(structure)\n",
    "    struc.add_oxidation_state_by_guess()\n",
    "    \n",
    "    provisional_slabs = []\n",
    "\n",
    "    for vacuum in vacuums: \n",
    "        for thickness in thicknesses:         \n",
    "            all_slabs = generate_all_slabs(struc, max_index=max_index, min_slab_size=thickness, min_vacuum_size=vacuum, lll_reduce=lll_reduce, center_slab=center_slab)\n",
    "            for i, slab in enumerate(all_slabs): \n",
    "                if (slab.is_polar() == False) and (slab.is_symmetric() == True): \n",
    "                    provisional_slabs.append({'hkl': ''.join(map(str, slab.miller_index)), \n",
    "                                              'slab_thickness': thickness, \n",
    "                                              'vacuum_thickness': vacuum, \n",
    "                                              'slab_index': i, \n",
    "                                              'slab': slab})\n",
    "    \n",
    "    unique_slabs_list = []\n",
    "    unique_slabs_list_of_dicts = []\n",
    "    repeat_slabs = []\n",
    "    \n",
    "    for slab in provisional_slabs: \n",
    "        if slab['slab'] not in unique_slabs_list: \n",
    "            unique_slabs_list.append(slab['slab'])\n",
    "            unique_slabs_list_of_dicts.append(slab)\n",
    "        else:\n",
    "            repeat_slabs.append('{}_{}_{}_{}'.format(slab['hkl'], slab['slab_thickness'], slab['vacuum_thickness'], slab['slab_index']))\n",
    "    \n",
    "\n",
    "    for slab in unique_slabs_list_of_dicts: \n",
    "        slab['slab'].to(fmt='poscar',filename='POSCAR_{}_{}_{}_{}.vasp'.format(slab['hkl'], slab['slab_thickness'], slab['vacuum_thickness'], slab['slab_index']))\n",
    "    \n",
    "    if len(provisional_slabs) != len(unique_slabs_list): \n",
    "        print('warning: not all combinations of hkl or slab/vac thickness were generated because of repeat structures. make sure to manually check the missing slabs.')\n",
    "        print('the repeat slabs are: ' + ', '.join(map(str, repeat_slabs)))\n",
    "\n"
   ]
  },
  {
   "cell_type": "code",
   "execution_count": null,
   "metadata": {},
   "outputs": [],
   "source": [
    "def generate_conv_dirs_one_hkl()"
   ]
  },
  {
   "cell_type": "code",
   "execution_count": null,
   "metadata": {},
   "outputs": [],
   "source": [
    "def generate_conv_dirs(struc, max_index, thicknesses, vacuums, lll_reduce=True, center_slab=True): \n",
    "    #ugotovit kako nardis potcars (najlazi pass list zazeljenih in pol nekak to s pymatgenom? dat skupi/), kako nardis incars "
   ]
  },
  {
   "cell_type": "code",
   "execution_count": 11,
   "metadata": {},
   "outputs": [
    {
     "name": "stdout",
     "output_type": "stream",
     "text": [
      "warning: not all combinations of hkl or slab/vac thickness were generated because of repeat structures. make sure to manually check the missing slabs.\n",
      "the repeat slabs are: 001_40_20_15\n"
     ]
    }
   ],
   "source": [
    "generate_all_unique_slabs('./CONTCAR_conventional', 1, [20,30,40], [20])"
   ]
  },
  {
   "cell_type": "code",
   "execution_count": 28,
   "metadata": {},
   "outputs": [
    {
     "name": "stdout",
     "output_type": "stream",
     "text": [
      "10\n"
     ]
    }
   ],
   "source": [
    "filtered_slabs = {}\n",
    "slabs_we_already_have = []\n",
    "\n",
    "for vacuum in vacuums: \n",
    "    for thickness in thicknesses: \n",
    "        filtered_slabs['dict_{}_{}'.format(thickness, vacuum)] = {}\n",
    "\n",
    "for key, val in acceptable_slabs.items():\n",
    "    for key2, slab in val.items():\n",
    "        if slab not in slabs_we_already_have:\n",
    "            slabs_we_already_have.append(slab)\n",
    "            filtered_slabs[key][key2] = slab\n",
    "\n",
    "print(len(filtered_slabs['dict_40_40']))"
   ]
  },
  {
   "cell_type": "code",
   "execution_count": null,
   "metadata": {},
   "outputs": [],
   "source": [
    "hkl = ''.join(map(str, slab.miller_index))\n",
    "slab.to(fmt='poscar',filename='POSCAR_{}_{}_{}_{}.vasp'.format(hkl, thickness, vac, i))"
   ]
  },
  {
   "cell_type": "code",
   "execution_count": 7,
   "metadata": {},
   "outputs": [],
   "source": [
    "vacuums = [20,30,40]\n",
    "thicknesses = [20,30,40]\n",
    "\n",
    "for vacuum in vacuums: \n",
    "    for thickness in thicknesses:         \n",
    "        #all_slabs = generate_all_slabs(structure, max_index=2, min_slab_size=thickness, min_vacuum_size=vacuum, lll_reduce=True, center_slab=True)\n",
    "        slabgen = SlabGenerator(structure, (1,0,1), min_slab_size=thickness, min_vacuum_size=vacuum, center_slab=True)\n",
    "        slabs = slabgen.get_slabs()\n",
    "        for i, slab in enumerate(slabs):\n",
    "            if (slab.is_polar() == False) and (slab.is_symmetric() == True): \n",
    "                hkl = ''.join(map(str, slab.miller_index))\n",
    "                slab.to(fmt='poscar',filename='POSCAR_{}_{}_{}.vasp'.format(hkl, thickness, vacuum))"
   ]
  },
  {
   "cell_type": "code",
   "execution_count": 7,
   "metadata": {},
   "outputs": [],
   "source": [
    "slab = slabs[4]\n",
    "slab.to(fmt='poscar', filename='POSCAR_YTOS_hkl_index.vasp')"
   ]
  },
  {
   "cell_type": "code",
   "execution_count": 14,
   "metadata": {},
   "outputs": [],
   "source": [
    "slabgen = SlabGenerator(structure,(1,0,0),20,30,lll_reduce=True)\n",
    "slabs = slabgen.get_slabs()\n",
    "slab = slabs[12]\n",
    "slab.to(fmt='poscar', filename='POSCAR.vasp')"
   ]
  },
  {
   "cell_type": "code",
   "execution_count": 35,
   "metadata": {},
   "outputs": [
    {
     "name": "stdout",
     "output_type": "stream",
     "text": [
      "0 True False\n",
      "1 True False\n",
      "2 False True\n"
     ]
    }
   ],
   "source": [
    "slabgen = SlabGenerator(structure,(2,1,2), min_slab_size=40, min_vacuum_size=40)\n",
    "slabs = slabgen.get_slabs()\n",
    "for i, slab in enumerate(slabs):\n",
    "    print(i, slab.is_polar(), slab.is_symmetric())\n",
    "slab = slabs[2]\n",
    "slab.to(fmt='poscar', filename='POSCAR_212_40_40_corr.vasp')"
   ]
  },
  {
   "cell_type": "code",
   "execution_count": null,
   "metadata": {},
   "outputs": [],
   "source": [
    "all_slabs = generate_all_slabs(structure, max_index=2, min_slab_size=10, min_vacuum_size=30, lll_reduce=True, center_slab=True)"
   ]
  }
 ],
 "metadata": {
  "kernelspec": {
   "display_name": "Python 3",
   "language": "python",
   "name": "python3"
  },
  "language_info": {
   "codemirror_mode": {
    "name": "ipython",
    "version": 3
   },
   "file_extension": ".py",
   "mimetype": "text/x-python",
   "name": "python",
   "nbconvert_exporter": "python",
   "pygments_lexer": "ipython3",
   "version": "3.7.7"
  }
 },
 "nbformat": 4,
 "nbformat_minor": 4
}
