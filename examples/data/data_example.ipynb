{
 "cells": [
  {
   "cell_type": "markdown",
   "metadata": {},
   "source": [
    "The `data` module of `surfaxe` contains scripts that collate the data from final calculations for post-processing, and extract core and vacuum energy levels for band alignmnent diagrams. The latter two functions are fairly flexible and can be quickly used from the command line directly on the HPCs but have been integrated into final data collation as well. "
   ]
  },
  {
   "cell_type": "code",
   "execution_count": 1,
   "metadata": {},
   "outputs": [],
   "source": [
    "from surfaxe.data import data, core, vacuum"
   ]
  },
  {
   "cell_type": "markdown",
   "metadata": {},
   "source": [
    "### Vacuum level potential\n",
    "The vacuum level potential from a `LOCPOT` or an existing `potential.csv` file made with `analysis.potential` function can be extracted with aptly named `vacuum` function. It takes one required argument, `path` which is the path to the directory in which either of the files is. "
   ]
  },
  {
   "cell_type": "code",
   "execution_count": 2,
   "metadata": {},
   "outputs": [
    {
     "data": {
      "text/plain": [
       "4.557"
      ]
     },
     "execution_count": 2,
     "metadata": {},
     "output_type": "execute_result"
    }
   ],
   "source": [
    "vacuum('../analysis/')"
   ]
  },
  {
   "cell_type": "markdown",
   "metadata": {},
   "source": [
    "### Core state energy \n",
    "The `core` function parses a structure file and an `OUTCAR` to get the core level of an atom in the middle of the slab with a specified coordination environment. It needs three parameters to work, the path to directory where the `OUTCAR` and structure files are, the core atom, and the list of nearest neighbours. The default nearest neighbour finding method is `CrystalNN` and as always, make sure to test the method works on the bulk structure before using it on slabs. "
   ]
  },
  {
   "cell_type": "code",
   "execution_count": 7,
   "metadata": {},
   "outputs": [
    {
     "data": {
      "text/plain": [
       "-505.7559"
      ]
     },
     "execution_count": 7,
     "metadata": {},
     "output_type": "execute_result"
    }
   ],
   "source": [
    "core('../convergence/30_20_15', 'O', ['Ti', 'Ti', 'Y', 'Y'], structure='POSCAR')"
   ]
  },
  {
   "cell_type": "markdown",
   "metadata": {},
   "source": [
    "### Data collation\n",
    "`data` function only acessible through a python api as its use is more suitable for the collation of data from final set of calculations. It requries the calculations to be in a specific folder structure. The function takes the energy per atom from a converged bulk calculation as well as the name of the folder where the files are \n",
    "\n",
    "(add possible folder configurations, show how data looks like once it's been parsed using this) "
   ]
  },
  {
   "cell_type": "code",
   "execution_count": null,
   "metadata": {},
   "outputs": [],
   "source": []
  }
 ],
 "metadata": {
  "kernelspec": {
   "display_name": "Python 3",
   "language": "python",
   "name": "python3"
  },
  "language_info": {
   "codemirror_mode": {
    "name": "ipython",
    "version": 3
   },
   "file_extension": ".py",
   "mimetype": "text/x-python",
   "name": "python",
   "nbconvert_exporter": "python",
   "pygments_lexer": "ipython3",
   "version": "3.7.7"
  }
 },
 "nbformat": 4,
 "nbformat_minor": 4
}
