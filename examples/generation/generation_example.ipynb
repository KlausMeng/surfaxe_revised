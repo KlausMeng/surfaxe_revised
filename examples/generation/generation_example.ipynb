{
 "cells": [
  {
   "cell_type": "code",
   "execution_count": 1,
   "metadata": {},
   "outputs": [],
   "source": [
    "from slabbystabby import generation as g"
   ]
  },
  {
   "cell_type": "markdown",
   "metadata": {},
   "source": [
    "`slabby stabby` `generation` module allows for easy generation of zero-dipole symmetric slabs for convergence testing purposes either up to a maximum Miller index or for a specific Miller index. By passing the structure, required Miller index variable, and lists of slab and vacuum thicknesses, `get_all_slabs` and `get_one_hkl_slabs` can generate unique zero-dipole symmetric surface slabs for all combinations of slab and vacuum thickness. \n",
    "\n",
    "To generate all unique zero-dipole symmetric slabs up to a maximum Miller index of 1 without putting them into separate folders with input files: "
   ]
  },
  {
   "cell_type": "code",
   "execution_count": 2,
   "metadata": {},
   "outputs": [],
   "source": [
    "g.get_all_slabs(structure='./CONTCAR_conventional', max_index=1, thicknesses=[20,30], vacuums=[20,30])"
   ]
  },
  {
   "cell_type": "markdown",
   "metadata": {},
   "source": [
    "The default behaviour of `make_fols` is to write the slabs to a folder named after formula of the bulk structure provided. The POSCARs in this file are named `POSCAR_hkl_slab_vacuum_index`, where hkl is the Miller index, slab and vacuum are the slab and vacuum thicknesses and index is the index of the slab. \n",
    "\n",
    "If `make_fols = True` it will put the slabs into folders with the following structure: `hkl/slab_vacuum_index/POSCAR`. \n",
    "\n",
    "For generation of input files, the configuration dictionary specifies reasonable INCAR tags, default POTCARS and KPOINTS. Customisation can be done either via `update_potcar`, `update_incar` and `update_kpoints` arguments or by adding custom config scripts. \n",
    "\n",
    "Depending on the number of slab and vacuum thicknesses, the max hkl specified and the complexity of the system the `get_all_unique_slabs` script may be slow. "
   ]
  },
  {
   "cell_type": "markdown",
   "metadata": {},
   "source": [
    "To generate all unique slabs for a specified Miller index with the folder structure but without input files: "
   ]
  },
  {
   "cell_type": "code",
   "execution_count": 4,
   "metadata": {},
   "outputs": [],
   "source": [
    "g.get_one_hkl_slabs(structure='./CONTCAR_conventional', hkl=(0,0,1), thicknesses=[20,30], vacuums=[20,30], make_fols=True)"
   ]
  },
  {
   "cell_type": "markdown",
   "metadata": {},
   "source": [
    "For both generation scripts, UserWarnings are raised if there are repeat slabs and if the slabs are greater than the specified maximum size (default is 500 atoms). If a slab has a number of atoms greater than the `max_size`, it will be written out but a warning will be raised. In the case of repeat slabs where the structure of one surface slab matches another perfectly, the second instance will not be written out. The warning specifies exacty which slabs were omitted. \n",
    "\n",
    "The oxidation states are added to the bulk structure by guess by default but can be added by element or by site as well. \n",
    "\n",
    "The slabs are centered by default - this makes the addition of adsorbates easier. The slabs are orthogonalised by default using the LLL reduction algorithm.  "
   ]
  },
  {
   "cell_type": "code",
   "execution_count": null,
   "metadata": {},
   "outputs": [],
   "source": []
  }
 ],
 "metadata": {
  "kernelspec": {
   "display_name": "Python 3",
   "language": "python",
   "name": "python3"
  },
  "language_info": {
   "codemirror_mode": {
    "name": "ipython",
    "version": 3
   },
   "file_extension": ".py",
   "mimetype": "text/x-python",
   "name": "python",
   "nbconvert_exporter": "python",
   "pygments_lexer": "ipython3",
   "version": "3.7.7"
  }
 },
 "nbformat": 4,
 "nbformat_minor": 4
}
