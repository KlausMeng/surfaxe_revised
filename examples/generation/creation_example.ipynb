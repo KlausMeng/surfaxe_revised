{
 "cells": [
  {
   "cell_type": "code",
   "execution_count": 1,
   "metadata": {},
   "outputs": [],
   "source": [
    "from slabbystabby import creation"
   ]
  },
  {
   "cell_type": "markdown",
   "metadata": {},
   "source": [
    "To generate all unique zero-dipole symmetric slabs up to a max miller index of 1 without putting them into separate folders with input files: "
   ]
  },
  {
   "cell_type": "code",
   "execution_count": 4,
   "metadata": {},
   "outputs": [],
   "source": [
    "creation.get_all_unique_slabs(structure='./CONTCAR_conventional', max_index=1, thicknesses=[20,30], vacuums=[20,30])"
   ]
  },
  {
   "cell_type": "markdown",
   "metadata": {},
   "source": [
    "To include the generation of folders, the `make_fols` arg should be set to `True` (default=`False`). For generation of input files, the config dict specifies reasonable INCAR tags, default POTCARS and KPOINTS. Customisation can be done either via `update_potcar`, `update_incar` and `update_kpoints` args or by adding custom config scripts "
   ]
  },
  {
   "cell_type": "markdown",
   "metadata": {},
   "source": [
    "To generate all unique slabs for a certain hkl in separate folders: "
   ]
  },
  {
   "cell_type": "code",
   "execution_count": 2,
   "metadata": {},
   "outputs": [],
   "source": [
    "creation.get_one_hkl_slab(structure='./CONTCAR_conventional', hkl=(0,0,1), thicknesses=[20,30], vacuums=[20,30], make_fols=True)"
   ]
  },
  {
   "cell_type": "code",
   "execution_count": null,
   "metadata": {},
   "outputs": [],
   "source": []
  }
 ],
 "metadata": {
  "kernelspec": {
   "display_name": "Python 3",
   "language": "python",
   "name": "python3"
  },
  "language_info": {
   "codemirror_mode": {
    "name": "ipython",
    "version": 3
   },
   "file_extension": ".py",
   "mimetype": "text/x-python",
   "name": "python",
   "nbconvert_exporter": "python",
   "pygments_lexer": "ipython3",
   "version": "3.7.7"
  }
 },
 "nbformat": 4,
 "nbformat_minor": 4
}
